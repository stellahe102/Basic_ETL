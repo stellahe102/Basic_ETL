{
 "cells": [
  {
   "cell_type": "markdown",
   "id": "f2735ed2-6f0d-42ea-a1e7-b2b68d00a23a",
   "metadata": {},
   "source": [
    "# #test 1\n",
    "#### Find path\n"
   ]
  },
  {
   "cell_type": "code",
   "execution_count": 2,
   "id": "65cc8834-e498-480c-9eb0-39cd7a3841a7",
   "metadata": {},
   "outputs": [],
   "source": [
    "import os\n",
    "# get current working directory\n",
    "cwd = os.getcwd()"
   ]
  },
  {
   "cell_type": "code",
   "execution_count": 3,
   "id": "209c94be-2825-4856-9b79-34367b02ccd5",
   "metadata": {},
   "outputs": [],
   "source": [
    "folder = 'Meta_coding_puzzle'\n",
    "abs_path = os.path.join(cwd, folder)"
   ]
  },
  {
   "cell_type": "code",
   "execution_count": 4,
   "id": "936afbbc-541a-473c-adb9-07d7fc2966b2",
   "metadata": {},
   "outputs": [
    {
     "data": {
      "text/plain": [
       "'C:\\\\Users\\\\stell\\\\JobHunting\\\\Song\\\\Meta_coding_puzzle'"
      ]
     },
     "execution_count": 4,
     "metadata": {},
     "output_type": "execute_result"
    }
   ],
   "source": [
    "abs_path"
   ]
  },
  {
   "cell_type": "code",
   "execution_count": 11,
   "id": "ced1f753-a3d4-4b73-8d8c-545ad9c3237e",
   "metadata": {},
   "outputs": [
    {
     "data": {
      "text/plain": [
       "False"
      ]
     },
     "execution_count": 11,
     "metadata": {},
     "output_type": "execute_result"
    }
   ],
   "source": [
    "# check if the path exists\n",
    "os.path.exists(abs_path)"
   ]
  },
  {
   "cell_type": "code",
   "execution_count": 13,
   "id": "8ec73dae-b61e-4060-a34d-ebb3b785239e",
   "metadata": {},
   "outputs": [
    {
     "data": {
      "text/plain": [
       "'C:\\\\Users\\\\stell\\\\JobHunting\\\\Python_exercise\\\\Meta_coding_puzzle'"
      ]
     },
     "execution_count": 13,
     "metadata": {},
     "output_type": "execute_result"
    }
   ],
   "source": [
    "# the path is not existing in the same folder as this jupyter notebook file\n",
    "# construct the correct folder path like below\n",
    "os.path.join('C:\\\\Users\\\\stell\\\\JobHunting\\\\Python_exercise', folder)"
   ]
  },
  {
   "cell_type": "code",
   "execution_count": null,
   "id": "2ab95c74-0eac-41fa-8572-aa26b93a5ac9",
   "metadata": {},
   "outputs": [],
   "source": []
  },
  {
   "cell_type": "code",
   "execution_count": 17,
   "id": "8b210143-13e9-4252-b30d-0442a6a5b408",
   "metadata": {},
   "outputs": [
    {
     "name": "stdout",
     "output_type": "stream",
     "text": [
      "loop No. 1\n",
      "loop No. 2\n"
     ]
    }
   ],
   "source": [
    "import os\n",
    "import glob\n",
    "# check if the path works\n",
    "# root_path = os.path.join('C:\\\\Users\\\\stell\\\\JobHunting\\\\Python_exercise', folder)\n",
    "root_path = 'C:\\\\Users\\\\stell\\\\JobHunting\\\\Python_exercise'\n",
    "loopNo = 0\n",
    "for root, dirs, files in os.walk(root_path):\n",
    "    loopNo += 1\n",
    "    files_path = glob.glob(os.path.join(root,'*'))\n",
    "    if loopNo > 2: break\n",
    "    print('loop No.', loopNo)\n",
    "    #print('root:', root)\n",
    "    #print('subdirectory', dirs)\n",
    "    #print('files', files)\n",
    "    # print(files_path)\n",
    "    #for i in files_path:\n",
    "    #    print(i)"
   ]
  },
  {
   "cell_type": "code",
   "execution_count": null,
   "id": "0a24c6fd-e336-4e12-a8ff-73f18988045e",
   "metadata": {},
   "outputs": [],
   "source": [
    "folder = 'Song\\\\json_data'"
   ]
  },
  {
   "cell_type": "markdown",
   "id": "482865d4-9b08-425a-a9b5-244c340abe56",
   "metadata": {},
   "source": [
    "# #test2\n",
    "### load json file to dataframe"
   ]
  },
  {
   "cell_type": "markdown",
   "id": "06ce7bbe-fb0f-4019-934d-5e94a271c223",
   "metadata": {},
   "source": [
    "### test song file"
   ]
  },
  {
   "cell_type": "code",
   "execution_count": 19,
   "id": "2dfcdb46-13f0-4dd2-83c0-1fb868eb6ace",
   "metadata": {
    "scrolled": true
   },
   "outputs": [
    {
     "name": "stdout",
     "output_type": "stream",
     "text": [
      "['C:\\\\Users\\\\stell\\\\JobHunting\\\\Song\\\\json_data\\\\2018-11-01-events (1).json', 'C:\\\\Users\\\\stell\\\\JobHunting\\\\Song\\\\json_data\\\\2018-11-02-events (2).json', 'C:\\\\Users\\\\stell\\\\JobHunting\\\\Song\\\\json_data\\\\2018-11-03-events.json', 'C:\\\\Users\\\\stell\\\\JobHunting\\\\Song\\\\json_data\\\\TRAAAAW128F429D538.json', 'C:\\\\Users\\\\stell\\\\JobHunting\\\\Song\\\\json_data\\\\TRAAABD128F429CF47.json', 'C:\\\\Users\\\\stell\\\\JobHunting\\\\Song\\\\json_data\\\\TRAAADZ128F9348C2E.json', 'C:\\\\Users\\\\stell\\\\JobHunting\\\\Song\\\\json_data\\\\TRAAAEF128F4273421.json', 'C:\\\\Users\\\\stell\\\\JobHunting\\\\Song\\\\json_data\\\\TRAAAFD128F92F423A.json', 'C:\\\\Users\\\\stell\\\\JobHunting\\\\Song\\\\json_data\\\\TRAAAMO128F1481E7F.json', 'C:\\\\Users\\\\stell\\\\JobHunting\\\\Song\\\\json_data\\\\TRAAAMQ128F1460CD3.json', 'C:\\\\Users\\\\stell\\\\JobHunting\\\\Song\\\\json_data\\\\TRAAAPK128E0786D96.json', 'C:\\\\Users\\\\stell\\\\JobHunting\\\\Song\\\\json_data\\\\TRAAARJ128F9320760.json', 'C:\\\\Users\\\\stell\\\\JobHunting\\\\Song\\\\json_data\\\\TRAAAVG12903CFA543.json', 'C:\\\\Users\\\\stell\\\\JobHunting\\\\Song\\\\json_data\\\\TRAABCL128F4286650.json', 'C:\\\\Users\\\\stell\\\\JobHunting\\\\Song\\\\json_data\\\\TRAABDL12903CAABBA.json', 'C:\\\\Users\\\\stell\\\\JobHunting\\\\Song\\\\json_data\\\\TRAABJL12903CDCF1A.json', 'C:\\\\Users\\\\stell\\\\JobHunting\\\\Song\\\\json_data\\\\TRAABJV128F1460C49.json', 'C:\\\\Users\\\\stell\\\\JobHunting\\\\Song\\\\json_data\\\\TRAABLR128F423B7E3.json', 'C:\\\\Users\\\\stell\\\\JobHunting\\\\Song\\\\json_data\\\\TRAABNV128F425CEE1.json', 'C:\\\\Users\\\\stell\\\\JobHunting\\\\Song\\\\json_data\\\\TRAABRB128F9306DD5.json', 'C:\\\\Users\\\\stell\\\\JobHunting\\\\Song\\\\json_data\\\\TRAABVM128F92CA9DC.json', 'C:\\\\Users\\\\stell\\\\JobHunting\\\\Song\\\\json_data\\\\TRAABXG128F9318EBD.json', 'C:\\\\Users\\\\stell\\\\JobHunting\\\\Song\\\\json_data\\\\TRAABYN12903CFD305.json', 'C:\\\\Users\\\\stell\\\\JobHunting\\\\Song\\\\json_data\\\\TRAACCG128F92E8A55.json', 'C:\\\\Users\\\\stell\\\\JobHunting\\\\Song\\\\json_data\\\\TRAACER128F4290F96.json', 'C:\\\\Users\\\\stell\\\\JobHunting\\\\Song\\\\json_data\\\\TRAACFV128F935E50B.json', 'C:\\\\Users\\\\stell\\\\JobHunting\\\\Song\\\\json_data\\\\TRAACHN128F1489601.json', 'C:\\\\Users\\\\stell\\\\JobHunting\\\\Song\\\\json_data\\\\TRAACIW12903CC0F6D.json', 'C:\\\\Users\\\\stell\\\\JobHunting\\\\Song\\\\json_data\\\\TRAACLV128F427E123.json', 'C:\\\\Users\\\\stell\\\\JobHunting\\\\Song\\\\json_data\\\\TRAACNS128F14A2DF5.json', 'C:\\\\Users\\\\stell\\\\JobHunting\\\\Song\\\\json_data\\\\TRAACOW128F933E35F.json', 'C:\\\\Users\\\\stell\\\\JobHunting\\\\Song\\\\json_data\\\\TRAACPE128F421C1B9.json', 'C:\\\\Users\\\\stell\\\\JobHunting\\\\Song\\\\json_data\\\\TRAACQT128F9331780.json']\n"
     ]
    }
   ],
   "source": [
    "root_path = 'C:\\\\Users\\\\stell\\\\JobHunting\\\\Song\\\\json_data'\n",
    "files = glob.glob(os.path.join(root_path, '*.json'))\n",
    "print(files)"
   ]
  },
  {
   "cell_type": "code",
   "execution_count": 24,
   "id": "fa6c1b48-ec69-431e-bc0a-da651b67ea4b",
   "metadata": {},
   "outputs": [],
   "source": [
    "import pandas as pd\n",
    "import os\n",
    "import glob\n",
    "root_path = 'C:\\\\Users\\\\stell\\\\JobHunting\\\\Song\\\\json_data\\\\songs'\n",
    "files = glob.glob(os.path.join(root_path, '*.json'))\n",
    "test_song_file = files[0]"
   ]
  },
  {
   "cell_type": "code",
   "execution_count": 25,
   "id": "7e02d877-3f89-4fc3-836b-da8f067749b6",
   "metadata": {},
   "outputs": [
    {
     "data": {
      "text/plain": [
       "'C:\\\\Users\\\\stell\\\\JobHunting\\\\Song\\\\json_data\\\\songs\\\\TRAAAAW128F429D538.json'"
      ]
     },
     "execution_count": 25,
     "metadata": {},
     "output_type": "execute_result"
    }
   ],
   "source": [
    "test_song_file"
   ]
  },
  {
   "cell_type": "code",
   "execution_count": 30,
   "id": "c3d177c4-d535-4f0e-ab89-d04f3fdeea11",
   "metadata": {},
   "outputs": [],
   "source": [
    "test_song_df = pd.DataFrame([pd.read_json(test_song_file, typ = 'series', convert_dates = False)])"
   ]
  },
  {
   "cell_type": "code",
   "execution_count": 31,
   "id": "014bedee-0a92-4ab3-86f5-06ceab2c360e",
   "metadata": {
    "scrolled": true
   },
   "outputs": [
    {
     "data": {
      "text/html": [
       "<div>\n",
       "<style scoped>\n",
       "    .dataframe tbody tr th:only-of-type {\n",
       "        vertical-align: middle;\n",
       "    }\n",
       "\n",
       "    .dataframe tbody tr th {\n",
       "        vertical-align: top;\n",
       "    }\n",
       "\n",
       "    .dataframe thead th {\n",
       "        text-align: right;\n",
       "    }\n",
       "</style>\n",
       "<table border=\"1\" class=\"dataframe\">\n",
       "  <thead>\n",
       "    <tr style=\"text-align: right;\">\n",
       "      <th></th>\n",
       "      <th>num_songs</th>\n",
       "      <th>artist_id</th>\n",
       "      <th>artist_latitude</th>\n",
       "      <th>artist_longitude</th>\n",
       "      <th>artist_location</th>\n",
       "      <th>artist_name</th>\n",
       "      <th>song_id</th>\n",
       "      <th>title</th>\n",
       "      <th>duration</th>\n",
       "      <th>year</th>\n",
       "    </tr>\n",
       "  </thead>\n",
       "  <tbody>\n",
       "    <tr>\n",
       "      <th>0</th>\n",
       "      <td>1</td>\n",
       "      <td>ARD7TVE1187B99BFB1</td>\n",
       "      <td>None</td>\n",
       "      <td>None</td>\n",
       "      <td>California - LA</td>\n",
       "      <td>Casual</td>\n",
       "      <td>SOMZWCG12A8C13C480</td>\n",
       "      <td>I Didn't Mean To</td>\n",
       "      <td>218.93179</td>\n",
       "      <td>0</td>\n",
       "    </tr>\n",
       "  </tbody>\n",
       "</table>\n",
       "</div>"
      ],
      "text/plain": [
       "   num_songs           artist_id artist_latitude artist_longitude  \\\n",
       "0          1  ARD7TVE1187B99BFB1            None             None   \n",
       "\n",
       "   artist_location artist_name             song_id             title  \\\n",
       "0  California - LA      Casual  SOMZWCG12A8C13C480  I Didn't Mean To   \n",
       "\n",
       "    duration  year  \n",
       "0  218.93179     0  "
      ]
     },
     "execution_count": 31,
     "metadata": {},
     "output_type": "execute_result"
    }
   ],
   "source": [
    "test_song_df"
   ]
  },
  {
   "cell_type": "code",
   "execution_count": 34,
   "id": "f6eaafa9-b817-4fdd-b5d1-974427c6d5da",
   "metadata": {
    "scrolled": true
   },
   "outputs": [
    {
     "name": "stdout",
     "output_type": "stream",
     "text": [
      "loop No. 1\n",
      "[1 'ARD7TVE1187B99BFB1' None None 'California - LA' 'Casual'\n",
      " 'SOMZWCG12A8C13C480' \"I Didn't Mean To\" 218.93179 0]\n"
     ]
    }
   ],
   "source": [
    "loop = 0\n",
    "for value in test_song_series.values:\n",
    "    loop += 1\n",
    "    print('loop No.',loop)\n",
    "    print(value)"
   ]
  },
  {
   "cell_type": "markdown",
   "id": "bbaf7af1-22fd-45e7-8bf9-0662cae83279",
   "metadata": {},
   "source": [
    "### test log files"
   ]
  },
  {
   "cell_type": "code",
   "execution_count": 1,
   "id": "676a0ec8-6006-4c7c-a440-4487e1011783",
   "metadata": {},
   "outputs": [],
   "source": [
    "import pandas as pd\n",
    "import os\n",
    "import glob\n",
    "root_path = 'C:\\\\Users\\\\stell\\\\JobHunting\\\\Song\\\\json_data\\\\logs'\n",
    "files = glob.glob(os.path.join(root_path, '*.json'))\n",
    "test_log_file = files[0]"
   ]
  },
  {
   "cell_type": "code",
   "execution_count": 2,
   "id": "1949095b-1039-4c84-874a-5f2e8a924236",
   "metadata": {},
   "outputs": [],
   "source": [
    "test_log_df = pd.read_json(test_log_file, lines = True)"
   ]
  },
  {
   "cell_type": "code",
   "execution_count": 3,
   "id": "0016ec24-2343-470c-bbfc-19b73290ae2e",
   "metadata": {
    "scrolled": true
   },
   "outputs": [
    {
     "data": {
      "text/html": [
       "<div>\n",
       "<style scoped>\n",
       "    .dataframe tbody tr th:only-of-type {\n",
       "        vertical-align: middle;\n",
       "    }\n",
       "\n",
       "    .dataframe tbody tr th {\n",
       "        vertical-align: top;\n",
       "    }\n",
       "\n",
       "    .dataframe thead th {\n",
       "        text-align: right;\n",
       "    }\n",
       "</style>\n",
       "<table border=\"1\" class=\"dataframe\">\n",
       "  <thead>\n",
       "    <tr style=\"text-align: right;\">\n",
       "      <th></th>\n",
       "      <th>artist</th>\n",
       "      <th>auth</th>\n",
       "      <th>firstName</th>\n",
       "      <th>gender</th>\n",
       "      <th>itemInSession</th>\n",
       "      <th>lastName</th>\n",
       "      <th>length</th>\n",
       "      <th>level</th>\n",
       "      <th>location</th>\n",
       "      <th>method</th>\n",
       "      <th>page</th>\n",
       "      <th>registration</th>\n",
       "      <th>sessionId</th>\n",
       "      <th>song</th>\n",
       "      <th>status</th>\n",
       "      <th>ts</th>\n",
       "      <th>userAgent</th>\n",
       "      <th>userId</th>\n",
       "    </tr>\n",
       "  </thead>\n",
       "  <tbody>\n",
       "    <tr>\n",
       "      <th>0</th>\n",
       "      <td>None</td>\n",
       "      <td>Logged In</td>\n",
       "      <td>Walter</td>\n",
       "      <td>M</td>\n",
       "      <td>0</td>\n",
       "      <td>Frye</td>\n",
       "      <td>NaN</td>\n",
       "      <td>free</td>\n",
       "      <td>San Francisco-Oakland-Hayward, CA</td>\n",
       "      <td>GET</td>\n",
       "      <td>Home</td>\n",
       "      <td>1540919166796</td>\n",
       "      <td>38</td>\n",
       "      <td>None</td>\n",
       "      <td>200</td>\n",
       "      <td>1541105830796</td>\n",
       "      <td>\"Mozilla/5.0 (Macintosh; Intel Mac OS X 10_9_4...</td>\n",
       "      <td>39</td>\n",
       "    </tr>\n",
       "    <tr>\n",
       "      <th>1</th>\n",
       "      <td>None</td>\n",
       "      <td>Logged In</td>\n",
       "      <td>Kaylee</td>\n",
       "      <td>F</td>\n",
       "      <td>0</td>\n",
       "      <td>Summers</td>\n",
       "      <td>NaN</td>\n",
       "      <td>free</td>\n",
       "      <td>Phoenix-Mesa-Scottsdale, AZ</td>\n",
       "      <td>GET</td>\n",
       "      <td>Home</td>\n",
       "      <td>1540344794796</td>\n",
       "      <td>139</td>\n",
       "      <td>None</td>\n",
       "      <td>200</td>\n",
       "      <td>1541106106796</td>\n",
       "      <td>\"Mozilla/5.0 (Windows NT 6.1; WOW64) AppleWebK...</td>\n",
       "      <td>8</td>\n",
       "    </tr>\n",
       "  </tbody>\n",
       "</table>\n",
       "</div>"
      ],
      "text/plain": [
       "  artist       auth firstName gender  itemInSession lastName  length level  \\\n",
       "0   None  Logged In    Walter      M              0     Frye     NaN  free   \n",
       "1   None  Logged In    Kaylee      F              0  Summers     NaN  free   \n",
       "\n",
       "                            location method  page   registration  sessionId  \\\n",
       "0  San Francisco-Oakland-Hayward, CA    GET  Home  1540919166796         38   \n",
       "1        Phoenix-Mesa-Scottsdale, AZ    GET  Home  1540344794796        139   \n",
       "\n",
       "   song  status             ts  \\\n",
       "0  None     200  1541105830796   \n",
       "1  None     200  1541106106796   \n",
       "\n",
       "                                           userAgent  userId  \n",
       "0  \"Mozilla/5.0 (Macintosh; Intel Mac OS X 10_9_4...      39  \n",
       "1  \"Mozilla/5.0 (Windows NT 6.1; WOW64) AppleWebK...       8  "
      ]
     },
     "execution_count": 3,
     "metadata": {},
     "output_type": "execute_result"
    }
   ],
   "source": [
    "test_log_df[:2]"
   ]
  },
  {
   "cell_type": "code",
   "execution_count": 6,
   "id": "fcab05e7-8127-4004-ae54-da93dafd606e",
   "metadata": {},
   "outputs": [
    {
     "name": "stdout",
     "output_type": "stream",
     "text": [
      "loop 0\n",
      "None\n",
      "loop 1\n",
      "None\n",
      "loop 2\n",
      "You Gotta Be\n",
      "loop 3\n",
      "None\n",
      "loop 4\n",
      "Flat 55\n"
     ]
    }
   ],
   "source": [
    "\n",
    "for i, row in test_log_df[:5].iterrows():\n",
    "    print('loop', i)\n",
    "    print(row['song'])"
   ]
  },
  {
   "cell_type": "code",
   "execution_count": 7,
   "id": "b3dac225-6878-4d58-8471-03bc05556789",
   "metadata": {},
   "outputs": [],
   "source": [
    "import numpy as np"
   ]
  },
  {
   "cell_type": "code",
   "execution_count": 26,
   "id": "9bede9c6-3218-41ad-bd83-7480f8abc88a",
   "metadata": {},
   "outputs": [],
   "source": [
    "df = test_log_df[test_log_df['page'] == 'NextSong'].astype({'ts': 'datetime64[ms]'})"
   ]
  },
  {
   "cell_type": "raw",
   "id": "cac1b769-f32e-44ad-ae6e-9dda58c82c91",
   "metadata": {},
   "source": [
    "df[:5]"
   ]
  },
  {
   "cell_type": "code",
   "execution_count": 15,
   "id": "f6fff25d-6138-4981-90d9-c076a22943d4",
   "metadata": {},
   "outputs": [],
   "source": [
    "t = pd.Series(df['ts'], index = df.index)"
   ]
  },
  {
   "cell_type": "code",
   "execution_count": 16,
   "id": "880d0171-fd8c-43b9-b915-96bfe9d6d65a",
   "metadata": {
    "scrolled": true
   },
   "outputs": [
    {
     "data": {
      "text/plain": [
       "2    2018-11-01 21:01:46.796\n",
       "4    2018-11-01 21:05:52.796\n",
       "5    2018-11-01 21:08:16.796\n",
       "6    2018-11-01 21:11:13.796\n",
       "7    2018-11-01 21:17:33.796\n",
       "8    2018-11-01 21:24:53.796\n",
       "9    2018-11-01 21:28:54.796\n",
       "10   2018-11-01 21:42:00.796\n",
       "12   2018-11-01 21:52:05.796\n",
       "13   2018-11-01 21:55:25.796\n",
       "14   2018-11-01 22:23:14.796\n",
       "Name: ts, dtype: datetime64[ms]"
      ]
     },
     "execution_count": 16,
     "metadata": {},
     "output_type": "execute_result"
    }
   ],
   "source": [
    "t"
   ]
  },
  {
   "cell_type": "code",
   "execution_count": 22,
   "id": "e924e8d9-62b1-40fb-9634-9df8ba21a4c7",
   "metadata": {},
   "outputs": [],
   "source": [
    "data_time = []\n",
    "column_labels = [\"timestamp\", \"hour\", \"day\", \"weekofyear\", \"month\", \"year\", \"weekday\"]\n",
    "for i in t:\n",
    "    data_time.append([i, i.hour, i.day, i.weekofyear, i.month, i.year, i.day_name()])"
   ]
  },
  {
   "cell_type": "code",
   "execution_count": 23,
   "id": "0ad9a4cb-eb10-4ddf-a74e-344478c6d93b",
   "metadata": {},
   "outputs": [
    {
     "data": {
      "text/plain": [
       "[[Timestamp('2018-11-01 21:01:46.796000'), 21, 1, 44, 11, 2018, 'Thursday'],\n",
       " [Timestamp('2018-11-01 21:05:52.796000'), 21, 1, 44, 11, 2018, 'Thursday'],\n",
       " [Timestamp('2018-11-01 21:08:16.796000'), 21, 1, 44, 11, 2018, 'Thursday'],\n",
       " [Timestamp('2018-11-01 21:11:13.796000'), 21, 1, 44, 11, 2018, 'Thursday'],\n",
       " [Timestamp('2018-11-01 21:17:33.796000'), 21, 1, 44, 11, 2018, 'Thursday'],\n",
       " [Timestamp('2018-11-01 21:24:53.796000'), 21, 1, 44, 11, 2018, 'Thursday'],\n",
       " [Timestamp('2018-11-01 21:28:54.796000'), 21, 1, 44, 11, 2018, 'Thursday'],\n",
       " [Timestamp('2018-11-01 21:42:00.796000'), 21, 1, 44, 11, 2018, 'Thursday'],\n",
       " [Timestamp('2018-11-01 21:52:05.796000'), 21, 1, 44, 11, 2018, 'Thursday'],\n",
       " [Timestamp('2018-11-01 21:55:25.796000'), 21, 1, 44, 11, 2018, 'Thursday'],\n",
       " [Timestamp('2018-11-01 22:23:14.796000'), 22, 1, 44, 11, 2018, 'Thursday']]"
      ]
     },
     "execution_count": 23,
     "metadata": {},
     "output_type": "execute_result"
    }
   ],
   "source": [
    "data_time"
   ]
  },
  {
   "cell_type": "code",
   "execution_count": 24,
   "id": "cded7805-91e0-4949-a920-a526dadc938f",
   "metadata": {},
   "outputs": [],
   "source": [
    "time_df = pd.DataFrame.from_records(data_time, columns = column_labels)"
   ]
  },
  {
   "cell_type": "code",
   "execution_count": 25,
   "id": "8eeac51c-b2f9-4cd3-8c53-b2dd07e9b7ee",
   "metadata": {},
   "outputs": [
    {
     "data": {
      "text/html": [
       "<div>\n",
       "<style scoped>\n",
       "    .dataframe tbody tr th:only-of-type {\n",
       "        vertical-align: middle;\n",
       "    }\n",
       "\n",
       "    .dataframe tbody tr th {\n",
       "        vertical-align: top;\n",
       "    }\n",
       "\n",
       "    .dataframe thead th {\n",
       "        text-align: right;\n",
       "    }\n",
       "</style>\n",
       "<table border=\"1\" class=\"dataframe\">\n",
       "  <thead>\n",
       "    <tr style=\"text-align: right;\">\n",
       "      <th></th>\n",
       "      <th>timestamp</th>\n",
       "      <th>hour</th>\n",
       "      <th>day</th>\n",
       "      <th>weekofyear</th>\n",
       "      <th>month</th>\n",
       "      <th>year</th>\n",
       "      <th>weekday</th>\n",
       "    </tr>\n",
       "  </thead>\n",
       "  <tbody>\n",
       "    <tr>\n",
       "      <th>0</th>\n",
       "      <td>2018-11-01 21:01:46.796</td>\n",
       "      <td>21</td>\n",
       "      <td>1</td>\n",
       "      <td>44</td>\n",
       "      <td>11</td>\n",
       "      <td>2018</td>\n",
       "      <td>Thursday</td>\n",
       "    </tr>\n",
       "    <tr>\n",
       "      <th>1</th>\n",
       "      <td>2018-11-01 21:05:52.796</td>\n",
       "      <td>21</td>\n",
       "      <td>1</td>\n",
       "      <td>44</td>\n",
       "      <td>11</td>\n",
       "      <td>2018</td>\n",
       "      <td>Thursday</td>\n",
       "    </tr>\n",
       "    <tr>\n",
       "      <th>2</th>\n",
       "      <td>2018-11-01 21:08:16.796</td>\n",
       "      <td>21</td>\n",
       "      <td>1</td>\n",
       "      <td>44</td>\n",
       "      <td>11</td>\n",
       "      <td>2018</td>\n",
       "      <td>Thursday</td>\n",
       "    </tr>\n",
       "    <tr>\n",
       "      <th>3</th>\n",
       "      <td>2018-11-01 21:11:13.796</td>\n",
       "      <td>21</td>\n",
       "      <td>1</td>\n",
       "      <td>44</td>\n",
       "      <td>11</td>\n",
       "      <td>2018</td>\n",
       "      <td>Thursday</td>\n",
       "    </tr>\n",
       "    <tr>\n",
       "      <th>4</th>\n",
       "      <td>2018-11-01 21:17:33.796</td>\n",
       "      <td>21</td>\n",
       "      <td>1</td>\n",
       "      <td>44</td>\n",
       "      <td>11</td>\n",
       "      <td>2018</td>\n",
       "      <td>Thursday</td>\n",
       "    </tr>\n",
       "    <tr>\n",
       "      <th>5</th>\n",
       "      <td>2018-11-01 21:24:53.796</td>\n",
       "      <td>21</td>\n",
       "      <td>1</td>\n",
       "      <td>44</td>\n",
       "      <td>11</td>\n",
       "      <td>2018</td>\n",
       "      <td>Thursday</td>\n",
       "    </tr>\n",
       "    <tr>\n",
       "      <th>6</th>\n",
       "      <td>2018-11-01 21:28:54.796</td>\n",
       "      <td>21</td>\n",
       "      <td>1</td>\n",
       "      <td>44</td>\n",
       "      <td>11</td>\n",
       "      <td>2018</td>\n",
       "      <td>Thursday</td>\n",
       "    </tr>\n",
       "    <tr>\n",
       "      <th>7</th>\n",
       "      <td>2018-11-01 21:42:00.796</td>\n",
       "      <td>21</td>\n",
       "      <td>1</td>\n",
       "      <td>44</td>\n",
       "      <td>11</td>\n",
       "      <td>2018</td>\n",
       "      <td>Thursday</td>\n",
       "    </tr>\n",
       "    <tr>\n",
       "      <th>8</th>\n",
       "      <td>2018-11-01 21:52:05.796</td>\n",
       "      <td>21</td>\n",
       "      <td>1</td>\n",
       "      <td>44</td>\n",
       "      <td>11</td>\n",
       "      <td>2018</td>\n",
       "      <td>Thursday</td>\n",
       "    </tr>\n",
       "    <tr>\n",
       "      <th>9</th>\n",
       "      <td>2018-11-01 21:55:25.796</td>\n",
       "      <td>21</td>\n",
       "      <td>1</td>\n",
       "      <td>44</td>\n",
       "      <td>11</td>\n",
       "      <td>2018</td>\n",
       "      <td>Thursday</td>\n",
       "    </tr>\n",
       "    <tr>\n",
       "      <th>10</th>\n",
       "      <td>2018-11-01 22:23:14.796</td>\n",
       "      <td>22</td>\n",
       "      <td>1</td>\n",
       "      <td>44</td>\n",
       "      <td>11</td>\n",
       "      <td>2018</td>\n",
       "      <td>Thursday</td>\n",
       "    </tr>\n",
       "  </tbody>\n",
       "</table>\n",
       "</div>"
      ],
      "text/plain": [
       "                 timestamp  hour  day  weekofyear  month  year   weekday\n",
       "0  2018-11-01 21:01:46.796    21    1          44     11  2018  Thursday\n",
       "1  2018-11-01 21:05:52.796    21    1          44     11  2018  Thursday\n",
       "2  2018-11-01 21:08:16.796    21    1          44     11  2018  Thursday\n",
       "3  2018-11-01 21:11:13.796    21    1          44     11  2018  Thursday\n",
       "4  2018-11-01 21:17:33.796    21    1          44     11  2018  Thursday\n",
       "5  2018-11-01 21:24:53.796    21    1          44     11  2018  Thursday\n",
       "6  2018-11-01 21:28:54.796    21    1          44     11  2018  Thursday\n",
       "7  2018-11-01 21:42:00.796    21    1          44     11  2018  Thursday\n",
       "8  2018-11-01 21:52:05.796    21    1          44     11  2018  Thursday\n",
       "9  2018-11-01 21:55:25.796    21    1          44     11  2018  Thursday\n",
       "10 2018-11-01 22:23:14.796    22    1          44     11  2018  Thursday"
      ]
     },
     "execution_count": 25,
     "metadata": {},
     "output_type": "execute_result"
    }
   ],
   "source": [
    "time_df"
   ]
  }
 ],
 "metadata": {
  "kernelspec": {
   "display_name": "Python 3 (ipykernel)",
   "language": "python",
   "name": "python3"
  },
  "language_info": {
   "codemirror_mode": {
    "name": "ipython",
    "version": 3
   },
   "file_extension": ".py",
   "mimetype": "text/x-python",
   "name": "python",
   "nbconvert_exporter": "python",
   "pygments_lexer": "ipython3",
   "version": "3.10.11"
  }
 },
 "nbformat": 4,
 "nbformat_minor": 5
}
